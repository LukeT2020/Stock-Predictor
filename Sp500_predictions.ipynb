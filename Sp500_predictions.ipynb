{
 "cells": [
  {
   "cell_type": "code",
   "execution_count": 5,
   "metadata": {},
   "outputs": [
    {
     "name": "stdout",
     "output_type": "stream",
     "text": [
      "[*********************100%***********************]  1 of 1 completed\n"
     ]
    }
   ],
   "source": [
    "import yfinance as yf\n",
    "sp500 = yf.download(\"^GSPC\")"
   ]
  },
  {
   "cell_type": "code",
   "execution_count": 6,
   "metadata": {},
   "outputs": [
    {
     "data": {
      "text/plain": [
       "<AxesSubplot: xlabel='Date'>"
      ]
     },
     "execution_count": 6,
     "metadata": {},
     "output_type": "execute_result"
    },
    {
     "data": {
      "image/png": "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",
      "text/plain": [
       "<Figure size 640x480 with 1 Axes>"
      ]
     },
     "metadata": {},
     "output_type": "display_data"
    }
   ],
   "source": [
    "#Overview of stock\n",
    "sp500.plot.line(y=\"Close\", use_index =True)"
   ]
  },
  {
   "cell_type": "code",
   "execution_count": 1,
   "metadata": {},
   "outputs": [
    {
     "ename": "NameError",
     "evalue": "name 'sp500' is not defined",
     "output_type": "error",
     "traceback": [
      "\u001b[1;31m---------------------------------------------------------------------------\u001b[0m",
      "\u001b[1;31mNameError\u001b[0m                                 Traceback (most recent call last)",
      "\u001b[1;32mc:\\Users\\Owner\\OneDrive\\Documents\\Python\\Sp500_predictions.ipynb Cell 3\u001b[0m in \u001b[0;36m<cell line: 1>\u001b[1;34m()\u001b[0m\n\u001b[1;32m----> <a href='vscode-notebook-cell:/c%3A/Users/Owner/OneDrive/Documents/Python/Sp500_predictions.ipynb#W2sZmlsZQ%3D%3D?line=0'>1</a>\u001b[0m sp500[\u001b[39m\"\u001b[39m\u001b[39mTomorrow\u001b[39m\u001b[39m\"\u001b[39m] \u001b[39m=\u001b[39m sp500[\u001b[39m\"\u001b[39m\u001b[39mClose\u001b[39m\u001b[39m\"\u001b[39m]\u001b[39m.\u001b[39mshift(\u001b[39m-\u001b[39m\u001b[39m1\u001b[39m)\n\u001b[0;32m      <a href='vscode-notebook-cell:/c%3A/Users/Owner/OneDrive/Documents/Python/Sp500_predictions.ipynb#W2sZmlsZQ%3D%3D?line=1'>2</a>\u001b[0m sp500[\u001b[39m\"\u001b[39m\u001b[39mTarget\u001b[39m\u001b[39m\"\u001b[39m] \u001b[39m=\u001b[39m (sp500[\u001b[39m\"\u001b[39m\u001b[39mTomorrow\u001b[39m\u001b[39m\"\u001b[39m] \u001b[39m>\u001b[39m sp500[\u001b[39m\"\u001b[39m\u001b[39mClose\u001b[39m\u001b[39m\"\u001b[39m])\u001b[39m.\u001b[39mastype(\u001b[39mint\u001b[39m)\n",
      "\u001b[1;31mNameError\u001b[0m: name 'sp500' is not defined"
     ]
    }
   ],
   "source": [
    "#Make sure not using current data for predictions\n",
    "sp500[\"Tomorrow\"] = sp500[\"Close\"].shift(-1)\n",
    "sp500[\"Target\"] = (sp500[\"Tomorrow\"] > sp500[\"Close\"]).astype(int)"
   ]
  },
  {
   "cell_type": "code",
   "execution_count": 8,
   "metadata": {},
   "outputs": [],
   "source": [
    "#Use recent data\n",
    "sp500 = sp500.loc[\"1990-01-01\":].copy()"
   ]
  },
  {
   "cell_type": "code",
   "execution_count": 42,
   "metadata": {},
   "outputs": [
    {
     "data": {
      "text/html": [
       "<style>#sk-container-id-3 {color: black;background-color: white;}#sk-container-id-3 pre{padding: 0;}#sk-container-id-3 div.sk-toggleable {background-color: white;}#sk-container-id-3 label.sk-toggleable__label {cursor: pointer;display: block;width: 100%;margin-bottom: 0;padding: 0.3em;box-sizing: border-box;text-align: center;}#sk-container-id-3 label.sk-toggleable__label-arrow:before {content: \"▸\";float: left;margin-right: 0.25em;color: #696969;}#sk-container-id-3 label.sk-toggleable__label-arrow:hover:before {color: black;}#sk-container-id-3 div.sk-estimator:hover label.sk-toggleable__label-arrow:before {color: black;}#sk-container-id-3 div.sk-toggleable__content {max-height: 0;max-width: 0;overflow: hidden;text-align: left;background-color: #f0f8ff;}#sk-container-id-3 div.sk-toggleable__content pre {margin: 0.2em;color: black;border-radius: 0.25em;background-color: #f0f8ff;}#sk-container-id-3 input.sk-toggleable__control:checked~div.sk-toggleable__content {max-height: 200px;max-width: 100%;overflow: auto;}#sk-container-id-3 input.sk-toggleable__control:checked~label.sk-toggleable__label-arrow:before {content: \"▾\";}#sk-container-id-3 div.sk-estimator input.sk-toggleable__control:checked~label.sk-toggleable__label {background-color: #d4ebff;}#sk-container-id-3 div.sk-label input.sk-toggleable__control:checked~label.sk-toggleable__label {background-color: #d4ebff;}#sk-container-id-3 input.sk-hidden--visually {border: 0;clip: rect(1px 1px 1px 1px);clip: rect(1px, 1px, 1px, 1px);height: 1px;margin: -1px;overflow: hidden;padding: 0;position: absolute;width: 1px;}#sk-container-id-3 div.sk-estimator {font-family: monospace;background-color: #f0f8ff;border: 1px dotted black;border-radius: 0.25em;box-sizing: border-box;margin-bottom: 0.5em;}#sk-container-id-3 div.sk-estimator:hover {background-color: #d4ebff;}#sk-container-id-3 div.sk-parallel-item::after {content: \"\";width: 100%;border-bottom: 1px solid gray;flex-grow: 1;}#sk-container-id-3 div.sk-label:hover label.sk-toggleable__label {background-color: #d4ebff;}#sk-container-id-3 div.sk-serial::before {content: \"\";position: absolute;border-left: 1px solid gray;box-sizing: border-box;top: 0;bottom: 0;left: 50%;z-index: 0;}#sk-container-id-3 div.sk-serial {display: flex;flex-direction: column;align-items: center;background-color: white;padding-right: 0.2em;padding-left: 0.2em;position: relative;}#sk-container-id-3 div.sk-item {position: relative;z-index: 1;}#sk-container-id-3 div.sk-parallel {display: flex;align-items: stretch;justify-content: center;background-color: white;position: relative;}#sk-container-id-3 div.sk-item::before, #sk-container-id-3 div.sk-parallel-item::before {content: \"\";position: absolute;border-left: 1px solid gray;box-sizing: border-box;top: 0;bottom: 0;left: 50%;z-index: -1;}#sk-container-id-3 div.sk-parallel-item {display: flex;flex-direction: column;z-index: 1;position: relative;background-color: white;}#sk-container-id-3 div.sk-parallel-item:first-child::after {align-self: flex-end;width: 50%;}#sk-container-id-3 div.sk-parallel-item:last-child::after {align-self: flex-start;width: 50%;}#sk-container-id-3 div.sk-parallel-item:only-child::after {width: 0;}#sk-container-id-3 div.sk-dashed-wrapped {border: 1px dashed gray;margin: 0 0.4em 0.5em 0.4em;box-sizing: border-box;padding-bottom: 0.4em;background-color: white;}#sk-container-id-3 div.sk-label label {font-family: monospace;font-weight: bold;display: inline-block;line-height: 1.2em;}#sk-container-id-3 div.sk-label-container {text-align: center;}#sk-container-id-3 div.sk-container {/* jupyter's `normalize.less` sets `[hidden] { display: none; }` but bootstrap.min.css set `[hidden] { display: none !important; }` so we also need the `!important` here to be able to override the default hidden behavior on the sphinx rendered scikit-learn.org. See: https://github.com/scikit-learn/scikit-learn/issues/21755 */display: inline-block !important;position: relative;}#sk-container-id-3 div.sk-text-repr-fallback {display: none;}</style><div id=\"sk-container-id-3\" class=\"sk-top-container\"><div class=\"sk-text-repr-fallback\"><pre>RandomForestClassifier(min_samples_split=100, random_state=1)</pre><b>In a Jupyter environment, please rerun this cell to show the HTML representation or trust the notebook. <br />On GitHub, the HTML representation is unable to render, please try loading this page with nbviewer.org.</b></div><div class=\"sk-container\" hidden><div class=\"sk-item\"><div class=\"sk-estimator sk-toggleable\"><input class=\"sk-toggleable__control sk-hidden--visually\" id=\"sk-estimator-id-3\" type=\"checkbox\" checked><label for=\"sk-estimator-id-3\" class=\"sk-toggleable__label sk-toggleable__label-arrow\">RandomForestClassifier</label><div class=\"sk-toggleable__content\"><pre>RandomForestClassifier(min_samples_split=100, random_state=1)</pre></div></div></div></div></div>"
      ],
      "text/plain": [
       "RandomForestClassifier(min_samples_split=100, random_state=1)"
      ]
     },
     "execution_count": 42,
     "metadata": {},
     "output_type": "execute_result"
    }
   ],
   "source": [
    "#Training the model\n",
    "from sklearn.ensemble import RandomForestClassifier\n",
    "\n",
    "model = RandomForestClassifier(n_estimators=100, min_samples_split=100, random_state=1)\n",
    "\n",
    "train = sp500.iloc[:-100]\n",
    "test = sp500.iloc[-100:]\n",
    "predictors = [\"Close\", \"Open\", \"Volume\", \"High\", \"Low\"]\n",
    "\n",
    "model.fit(train[predictors], train[\"Target\"])"
   ]
  },
  {
   "cell_type": "code",
   "execution_count": 10,
   "metadata": {},
   "outputs": [
    {
     "data": {
      "text/plain": [
       "0.391304347826087"
      ]
     },
     "execution_count": 10,
     "metadata": {},
     "output_type": "execute_result"
    }
   ],
   "source": [
    "from sklearn.metrics import precision_score\n",
    "preds = model.predict(test[predictors])\n",
    "\n",
    "#Turn array into pandas series\n",
    "import pandas as pd\n",
    "preds = pd.Series(preds, index=test.index)\n",
    "\n",
    "#Accuracy\n",
    "precision_score(test[\"Target\"], preds)"
   ]
  },
  {
   "cell_type": "code",
   "execution_count": 11,
   "metadata": {},
   "outputs": [],
   "source": [
    "#Visualize predictions\n",
    "combined = pd.concat([test[\"Target\"], preds], axis=1)\n",
    "combined.plot()\n"
   ]
  },
  {
   "cell_type": "code",
   "execution_count": 13,
   "metadata": {},
   "outputs": [],
   "source": [
    "#Model prediction function\n",
    "def predict(train, test, predictors, model):\n",
    "    model.fit(train[predictors], train[\"Target\"])\n",
    "    preds = model.predict(test[predictors])\n",
    "    preds = pd.Series(preds, index=test.index, name=\"Predictions\")\n",
    "    combined = pd.concat([test[\"Target\"],preds], axis=1)\n",
    "    return combined"
   ]
  },
  {
   "cell_type": "code",
   "execution_count": 18,
   "metadata": {},
   "outputs": [],
   "source": [
    "#Back testing the model\n",
    "def backtest(data, model, predictors, start=2500, step=250):\n",
    "    all_predictions = []\n",
    "\n",
    "    for i in range(start, data.shape[0], step):\n",
    "        train = data.iloc[0:i].copy()\n",
    "        test = data.iloc[i:(i+step)].copy()\n",
    "        predictions = predict(train, test, predictors, model)\n",
    "        all_predictions.append(predictions)\n",
    "    \n",
    "    return pd.concat(all_predictions)"
   ]
  },
  {
   "cell_type": "code",
   "execution_count": 47,
   "metadata": {},
   "outputs": [],
   "source": [
    "predictions = backtest(sp500, model, predictors)"
   ]
  },
  {
   "cell_type": "code",
   "execution_count": 21,
   "metadata": {},
   "outputs": [
    {
     "data": {
      "text/plain": [
       "0    3341\n",
       "1    2452\n",
       "Name: Predictions, dtype: int64"
      ]
     },
     "execution_count": 21,
     "metadata": {},
     "output_type": "execute_result"
    }
   ],
   "source": [
    "#How many times is each prediction type is made\n",
    "predictions[\"Predictions\"].value_counts()"
   ]
  },
  {
   "cell_type": "code",
   "execution_count": 23,
   "metadata": {},
   "outputs": [
    {
     "data": {
      "text/plain": [
       "0.5277324632952691"
      ]
     },
     "execution_count": 23,
     "metadata": {},
     "output_type": "execute_result"
    }
   ],
   "source": [
    "#Accuracy of model\n",
    "precision_score(predictions[\"Target\"], predictions[\"Predictions\"])"
   ]
  },
  {
   "cell_type": "code",
   "execution_count": 25,
   "metadata": {},
   "outputs": [
    {
     "data": {
      "text/plain": [
       "1    0.534611\n",
       "0    0.465389\n",
       "Name: Target, dtype: float64"
      ]
     },
     "execution_count": 25,
     "metadata": {},
     "output_type": "execute_result"
    }
   ],
   "source": [
    "#% of stocks actually went up and down\n",
    "predictions[\"Target\"].value_counts()/ predictions.shape[0]"
   ]
  },
  {
   "cell_type": "code",
   "execution_count": 31,
   "metadata": {},
   "outputs": [],
   "source": [
    "#Add indicators showing price move in different time frames\n",
    "horizons = [2,5,60,250,1000]\n",
    "new_predictors = []\n",
    "\n",
    "for horizon in horizons:\n",
    "    rolling_averages = sp500.rolling(horizon).mean()\n",
    "\n",
    "    ratio_column = f\"Close_ratio_{horizon}\"\n",
    "    sp500[ratio_column] = sp500[\"Close\"]/ rolling_averages[\"Close\"]\n",
    "\n",
    "    trend_column = f\"Trend_{horizon}\"\n",
    "    sp500[trend_column] = sp500.shift(1).rolling(horizon).sum()[\"Target\"]\n",
    "\n",
    "new_predictors += [ratio_column, trend_column]"
   ]
  },
  {
   "cell_type": "code",
   "execution_count": 34,
   "metadata": {},
   "outputs": [],
   "source": [
    "#Clean NA data\n",
    "sp500= sp500.dropna()"
   ]
  },
  {
   "cell_type": "code",
   "execution_count": 35,
   "metadata": {},
   "outputs": [],
   "source": [
    "model = RandomForestClassifier(n_estimators=200, min_samples_split=50, random_state=1)"
   ]
  },
  {
   "cell_type": "code",
   "execution_count": 45,
   "metadata": {},
   "outputs": [],
   "source": [
    "#Model prediction function improvements, less trades that are more accurate\n",
    "def predict(train, test, predictors, model):\n",
    "    model.fit(train[predictors], train[\"Target\"])\n",
    "    preds = model.predict_proba(test[predictors])[:,1]\n",
    "    preds[preds >= .6] = 1\n",
    "    preds[preds < .6] = 0\n",
    "    preds = pd.Series(preds, index=test.index, name=\"Predictions\")\n",
    "    combined = pd.concat([test[\"Target\"],preds], axis=1)\n",
    "    return combined"
   ]
  },
  {
   "cell_type": "code",
   "execution_count": 46,
   "metadata": {},
   "outputs": [],
   "source": [
    "predictions = backtest(sp500, model, new_predictors)"
   ]
  },
  {
   "cell_type": "code",
   "execution_count": 49,
   "metadata": {},
   "outputs": [
    {
     "data": {
      "text/plain": [
       "0.0    4046\n",
       "1.0     746\n",
       "Name: Predictions, dtype: int64"
      ]
     },
     "execution_count": 49,
     "metadata": {},
     "output_type": "execute_result"
    }
   ],
   "source": [
    "predictions[\"Predictions\"].value_counts()"
   ]
  },
  {
   "cell_type": "code",
   "execution_count": 50,
   "metadata": {},
   "outputs": [
    {
     "data": {
      "text/plain": [
       "0.5361930294906166"
      ]
     },
     "execution_count": 50,
     "metadata": {},
     "output_type": "execute_result"
    }
   ],
   "source": [
    "#Improved accuracy\n",
    "precision_score(predictions[\"Target\"], predictions[\"Predictions\"])"
   ]
  }
 ],
 "metadata": {
  "kernelspec": {
   "display_name": "Python 3.10.6 64-bit",
   "language": "python",
   "name": "python3"
  },
  "language_info": {
   "codemirror_mode": {
    "name": "ipython",
    "version": 3
   },
   "file_extension": ".py",
   "mimetype": "text/x-python",
   "name": "python",
   "nbconvert_exporter": "python",
   "pygments_lexer": "ipython3",
   "version": "3.10.6"
  },
  "orig_nbformat": 4,
  "vscode": {
   "interpreter": {
    "hash": "c2ed1c1e3dda2d1d09010f3df351d528d97a393444344645f0fddd23da56b409"
   }
  }
 },
 "nbformat": 4,
 "nbformat_minor": 2
}
#
